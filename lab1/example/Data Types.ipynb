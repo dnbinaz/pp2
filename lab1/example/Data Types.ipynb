{
 "cells": [
  {
   "cell_type": "code",
   "execution_count": null,
   "metadata": {},
   "outputs": [],
   "source": [
    "#Print the data type of the variable x:\n",
    "\n",
    "x = 5\n",
    "print(type(x))"
   ]
  },
  {
   "cell_type": "code",
   "execution_count": 1,
   "metadata": {},
   "outputs": [],
   "source": [
    "x=5\n",
    "x=complex(x)\n",
    "print(x)"
   ]
  },
  {
   "cell_type": "code",
   "execution_count": 3,
   "metadata": {},
   "outputs": [
    {
     "ename": "TypeError",
     "evalue": "int() argument must be a string, a bytes-like object or a real number, not 'complex'",
     "output_type": "error",
     "traceback": [
      "\u001b[1;31m---------------------------------------------------------------------------\u001b[0m",
      "\u001b[1;31mTypeError\u001b[0m                                 Traceback (most recent call last)",
      "Cell \u001b[1;32mIn[3], line 2\u001b[0m\n\u001b[0;32m      1\u001b[0m x\u001b[38;5;241m=\u001b[39m\u001b[38;5;241m5\u001b[39mj\n\u001b[1;32m----> 2\u001b[0m x\u001b[38;5;241m=\u001b[39m\u001b[38;5;28;43mint\u001b[39;49m\u001b[43m(\u001b[49m\u001b[43mx\u001b[49m\u001b[43m)\u001b[49m\n\u001b[0;32m      3\u001b[0m \u001b[38;5;28mprint\u001b[39m(x)\n",
      "\u001b[1;31mTypeError\u001b[0m: int() argument must be a string, a bytes-like object or a real number, not 'complex'"
     ]
    }
   ],
   "source": [
    "x=5j\n",
    "x=int(x)\n",
    "print(x)"
   ]
  },
  {
   "cell_type": "code",
   "execution_count": null,
   "metadata": {},
   "outputs": [],
   "source": [
    "x = \"Hello World\" #str\t\n",
    "x = 20 #int\t\n",
    "x = 20.5 #float\t\n",
    "x = 1j #complex\t\n",
    "x = [\"apple\", \"banana\", \"cherry\"] #list\t\n",
    "x = (\"apple\", \"banana\", \"cherry\") #tuple\t\n",
    "x = range(6) #range\t\n",
    "x = {\"name\" : \"John\", \"age\" : 36} #dict\t\n",
    "x = {\"apple\", \"banana\", \"cherry\"} #set\t\n",
    "x = frozenset({\"apple\", \"banana\", \"cherry\"}) #frozenset\t\n",
    "x = True #bool\t\n",
    "x = b\"Hello\" #bytes\t\n",
    "x = bytearray(5) #bytearray\t\n",
    "x = memoryview(bytes(5)) #memoryview\t\n",
    "x = None #NoneType"
   ]
  },
  {
   "cell_type": "code",
   "execution_count": null,
   "metadata": {},
   "outputs": [],
   "source": [
    "x = str(\"Hello World\")\t#str\t\n",
    "x = int(20)\t#int\t\n",
    "x = float(20.5)\t#float\t\n",
    "x = complex(1j)\t#complex\t\n",
    "x = list((\"apple\", \"banana\", \"cherry\"))\t#list\t\n",
    "x = tuple((\"apple\", \"banana\", \"cherry\")) #tuple\t\n",
    "x = range(6) #range\t\n",
    "x = dict(name=\"John\", age=36) #dict\t\n",
    "x = set((\"apple\", \"banana\", \"cherry\")) #set\t\n",
    "x = frozenset((\"apple\", \"banana\", \"cherry\")) #frozenset\t\n",
    "x = bool(5)\t#bool\t\n",
    "x = bytes(5) #bytes\t\n",
    "x = bytearray(5) #bytearray\t\n",
    "x = memoryview(bytes(5)) #memoryview"
   ]
  }
 ],
 "metadata": {
  "kernelspec": {
   "display_name": "Python 3",
   "language": "python",
   "name": "python3"
  },
  "language_info": {
   "codemirror_mode": {
    "name": "ipython",
    "version": 3
   },
   "file_extension": ".py",
   "mimetype": "text/x-python",
   "name": "python",
   "nbconvert_exporter": "python",
   "pygments_lexer": "ipython3",
   "version": "3.12.1"
  }
 },
 "nbformat": 4,
 "nbformat_minor": 2
}
