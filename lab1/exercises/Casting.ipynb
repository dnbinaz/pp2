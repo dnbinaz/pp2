{
 "cells": [
  {
   "cell_type": "code",
   "execution_count": null,
   "metadata": {},
   "outputs": [],
   "source": [
    "x = int(1)   # x = 1\n",
    "y = int(2.8) # y = 2\n",
    "z = int(\"3\") # z = 3"
   ]
  },
  {
   "cell_type": "code",
   "execution_count": null,
   "metadata": {},
   "outputs": [],
   "source": [
    "x = float(1)     # x = 1.0\n",
    "y = float(2.8)   # y = 2.8\n",
    "z = float(\"3\")   # z = 3.0\n",
    "w = float(\"4.2\") # w = 4.2"
   ]
  },
  {
   "cell_type": "code",
   "execution_count": null,
   "metadata": {},
   "outputs": [],
   "source": [
    "x = str(\"s1\") # x = 's1'\n",
    "y = str(2)    # y = '2'\n",
    "z = str(3.0)  # z = '3.0'"
   ]
  }
 ],
 "metadata": {
  "language_info": {
   "name": "python"
  }
 },
 "nbformat": 4,
 "nbformat_minor": 2
}
